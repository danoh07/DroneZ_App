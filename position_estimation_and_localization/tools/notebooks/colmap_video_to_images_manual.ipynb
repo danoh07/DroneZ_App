{
 "cells": [
  {
   "cell_type": "code",
   "execution_count": 2,
   "metadata": {},
   "outputs": [],
   "source": [
    "from pathlib import Path\n",
    "import cv2 as cv"
   ]
  },
  {
   "cell_type": "code",
   "execution_count": 3,
   "metadata": {},
   "outputs": [],
   "source": [
    "imgpath = Path('project4/images')"
   ]
  },
  {
   "cell_type": "code",
   "execution_count": 9,
   "metadata": {},
   "outputs": [
    {
     "name": "stdout",
     "output_type": "stream",
     "text": [
      "True\n",
      "done\n"
     ]
    }
   ],
   "source": [
    "cap = cv.VideoCapture('IMG_5912.mov')\n",
    "\n",
    "frame_no = 0\n",
    "\n",
    "ret, frame = cap.read()\n",
    "\n",
    "while (cap.isOpened()):\n",
    "    ret, frame = cap.read()\n",
    "\n",
    "    if frame is None:\n",
    "        break\n",
    "\n",
    "    if frame_no % 10 == 0:\n",
    "        target = str(imgpath/f'{frame_no}.jpg')\n",
    "        cv.imwrite(target, frame)\n",
    "    \n",
    "    frame_no += 1\n",
    "\n",
    "\n",
    "cap.release()\n",
    "print('done')"
   ]
  },
  {
   "cell_type": "code",
   "execution_count": null,
   "metadata": {},
   "outputs": [],
   "source": []
  }
 ],
 "metadata": {
  "kernelspec": {
   "display_name": "Python 3",
   "language": "python",
   "name": "python3"
  },
  "language_info": {
   "codemirror_mode": {
    "name": "ipython",
    "version": 3
   },
   "file_extension": ".py",
   "mimetype": "text/x-python",
   "name": "python",
   "nbconvert_exporter": "python",
   "pygments_lexer": "ipython3",
   "version": "3.11.0"
  },
  "orig_nbformat": 4
 },
 "nbformat": 4,
 "nbformat_minor": 2
}
